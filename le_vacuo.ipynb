{
 "cells": [
  {
   "cell_type": "markdown",
   "metadata": {
    "_cell_guid": "b1076dfc-b9ad-4769-8c92-a6c4dae69d19",
    "_uuid": "8f2839f25d086af736a60e9eeb907d3b93b6e0e5"
   },
   "source": [
    "# Algoritmo para ler Vacuometros\n",
    "\n",
    "Trata-se de um algoritmo de visão simplificado. A base é interpretar uma imagem que contenha o vacuometro. O vacuometro é isolado, e o algortimo tenta traçar uma linha do centro até a borda do vacuometro em cima do ponteiro.\n",
    "\n",
    "## 1 - Arranjo experimental\n",
    "\n",
    "A intenção é ter uma camera fixa apontando para o vacuometro (por exemplo, um Raspberry Pi com um módulo de camera), e transmitir o resultado da interpretacao das imagens do vacuometro para um ponto remoto.\n",
    "\n",
    "No entanto, este documento descreve somente a parte que interpreta a imagem (que pode ser qualquer imagem, inclusive fotografada por um celular) e detecta o valor lido.\n",
    "\n",
    "### 1.1 - Imagem com o vacuometro\n",
    "\n",
    "Utilizamos a seguinte imagem de exemplo:\n",
    "\n",
    "<img src=\"\">\n"
   ]
  },
  {
   "cell_type": "code",
   "execution_count": null,
   "metadata": {},
   "outputs": [],
   "source": []
  }
 ],
 "metadata": {
  "kernelspec": {
   "display_name": "Python 3 (ipykernel)",
   "language": "python",
   "name": "python3"
  },
  "language_info": {
   "codemirror_mode": {
    "name": "ipython",
    "version": 3
   },
   "file_extension": ".py",
   "mimetype": "text/x-python",
   "name": "python",
   "nbconvert_exporter": "python",
   "pygments_lexer": "ipython3",
   "version": "3.7.10"
  }
 },
 "nbformat": 4,
 "nbformat_minor": 4
}
